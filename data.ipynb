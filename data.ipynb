{
 "cells": [
  {
   "cell_type": "code",
   "execution_count": 2,
   "metadata": {
    "collapsed": true
   },
   "outputs": [],
   "source": [
    "import pandas as pd\n",
    "import numpy as np\n"
   ]
  },
  {
   "cell_type": "code",
   "execution_count": 39,
   "outputs": [
    {
     "name": "stdout",
     "output_type": "stream",
     "text": [
      "3566384\n",
      "<class 'pandas.core.frame.DataFrame'>\n",
      "Int64Index: 3566384 entries, 0 to 3566383\n",
      "Data columns (total 17 columns):\n",
      " #   Column           Dtype  \n",
      "---  ------           -----  \n",
      " 0   id_encode        int64  \n",
      " 1   hour             float64\n",
      " 2   ele_price        float64\n",
      " 3   ser_price        float64\n",
      " 4   after_ser_price  float64\n",
      " 5   total_price      float64\n",
      " 6   f1               float64\n",
      " 7   f2               float64\n",
      " 8   f3               float64\n",
      " 9   ds               int64  \n",
      " 10  power            float64\n",
      " 11  parking_free     float64\n",
      " 12  flag             int64  \n",
      " 13  h3               int32  \n",
      " 14  ac_equipment_kw  float64\n",
      " 15  dc_equipment_kw  float64\n",
      " 16  tag              object \n",
      "dtypes: float64(12), int32(1), int64(3), object(1)\n",
      "memory usage: 476.2+ MB\n",
      "None\n"
     ]
    },
    {
     "data": {
      "text/plain": "   id_encode  hour  ele_price  ser_price  after_ser_price  total_price   f1  \\\n0          0   0.0       0.64       0.95             0.31         1.59  0.0   \n1          0   1.0       0.64       0.95             0.31         1.59  0.0   \n2          0   2.0       0.64       0.95             0.31         1.59  0.0   \n3          0   3.0       0.64       0.95             0.31         1.59  0.0   \n4          0   4.0       0.64       0.95             0.31         1.59  0.0   \n\n    f2   f3        ds  power  parking_free  flag   h3  ac_equipment_kw  \\\n0  0.0  1.0  20220415    0.0           1.0     1  126              0.0   \n1  0.0  1.0  20220415    0.0           1.0     1  126              0.0   \n2  0.0  1.0  20220415    0.0           1.0     1  126              0.0   \n3  0.0  1.0  20220415    0.0           1.0     1  126              0.0   \n4  0.0  1.0  20220415    0.0           1.0     1  126              0.0   \n\n   dc_equipment_kw    tag  \n0           1440.0  train  \n1           1440.0  train  \n2           1440.0  train  \n3           1440.0  train  \n4           1440.0  train  ",
      "text/html": "<div>\n<style scoped>\n    .dataframe tbody tr th:only-of-type {\n        vertical-align: middle;\n    }\n\n    .dataframe tbody tr th {\n        vertical-align: top;\n    }\n\n    .dataframe thead th {\n        text-align: right;\n    }\n</style>\n<table border=\"1\" class=\"dataframe\">\n  <thead>\n    <tr style=\"text-align: right;\">\n      <th></th>\n      <th>id_encode</th>\n      <th>hour</th>\n      <th>ele_price</th>\n      <th>ser_price</th>\n      <th>after_ser_price</th>\n      <th>total_price</th>\n      <th>f1</th>\n      <th>f2</th>\n      <th>f3</th>\n      <th>ds</th>\n      <th>power</th>\n      <th>parking_free</th>\n      <th>flag</th>\n      <th>h3</th>\n      <th>ac_equipment_kw</th>\n      <th>dc_equipment_kw</th>\n      <th>tag</th>\n    </tr>\n  </thead>\n  <tbody>\n    <tr>\n      <th>0</th>\n      <td>0</td>\n      <td>0.0</td>\n      <td>0.64</td>\n      <td>0.95</td>\n      <td>0.31</td>\n      <td>1.59</td>\n      <td>0.0</td>\n      <td>0.0</td>\n      <td>1.0</td>\n      <td>20220415</td>\n      <td>0.0</td>\n      <td>1.0</td>\n      <td>1</td>\n      <td>126</td>\n      <td>0.0</td>\n      <td>1440.0</td>\n      <td>train</td>\n    </tr>\n    <tr>\n      <th>1</th>\n      <td>0</td>\n      <td>1.0</td>\n      <td>0.64</td>\n      <td>0.95</td>\n      <td>0.31</td>\n      <td>1.59</td>\n      <td>0.0</td>\n      <td>0.0</td>\n      <td>1.0</td>\n      <td>20220415</td>\n      <td>0.0</td>\n      <td>1.0</td>\n      <td>1</td>\n      <td>126</td>\n      <td>0.0</td>\n      <td>1440.0</td>\n      <td>train</td>\n    </tr>\n    <tr>\n      <th>2</th>\n      <td>0</td>\n      <td>2.0</td>\n      <td>0.64</td>\n      <td>0.95</td>\n      <td>0.31</td>\n      <td>1.59</td>\n      <td>0.0</td>\n      <td>0.0</td>\n      <td>1.0</td>\n      <td>20220415</td>\n      <td>0.0</td>\n      <td>1.0</td>\n      <td>1</td>\n      <td>126</td>\n      <td>0.0</td>\n      <td>1440.0</td>\n      <td>train</td>\n    </tr>\n    <tr>\n      <th>3</th>\n      <td>0</td>\n      <td>3.0</td>\n      <td>0.64</td>\n      <td>0.95</td>\n      <td>0.31</td>\n      <td>1.59</td>\n      <td>0.0</td>\n      <td>0.0</td>\n      <td>1.0</td>\n      <td>20220415</td>\n      <td>0.0</td>\n      <td>1.0</td>\n      <td>1</td>\n      <td>126</td>\n      <td>0.0</td>\n      <td>1440.0</td>\n      <td>train</td>\n    </tr>\n    <tr>\n      <th>4</th>\n      <td>0</td>\n      <td>4.0</td>\n      <td>0.64</td>\n      <td>0.95</td>\n      <td>0.31</td>\n      <td>1.59</td>\n      <td>0.0</td>\n      <td>0.0</td>\n      <td>1.0</td>\n      <td>20220415</td>\n      <td>0.0</td>\n      <td>1.0</td>\n      <td>1</td>\n      <td>126</td>\n      <td>0.0</td>\n      <td>1440.0</td>\n      <td>train</td>\n    </tr>\n  </tbody>\n</table>\n</div>"
     },
     "execution_count": 39,
     "metadata": {},
     "output_type": "execute_result"
    }
   ],
   "source": [
    "train_history = pd.read_csv(\"raw_data/train/power_forecast_history.csv\")\n",
    "train_power=pd.read_csv(\"raw_data/train/power.csv\")\n",
    "train_history['power']=train_power['power']\n",
    "stub=pd.read_csv(\"raw_data/train/stub_info.csv\")\n",
    "train_df=pd.merge(train_history,stub,on='id_encode',how='left')\n",
    "from sklearn.preprocessing import LabelEncoder\n",
    "le = LabelEncoder()\n",
    "train_df['h3'] = le.fit_transform(train_df['h3'])\n",
    "train_df['flag'] = train_df['flag'].replace({'A':1,'B':2})\n",
    "train_df['tag'] = 'train'\n",
    "print(len(train_df))\n",
    "print(train_df.info())\n",
    "train_df.head()\n",
    "# test_history=pd.read_csv(\"初赛1008\\\\test_power_forecast_history.csv\")\n",
    "# test_df=pd.merge(test_history,stub,on='id_encode',how='left')\n",
    "# test_df.to_csv(\"初赛1008\\\\test_df.csv\",index=None)"
   ],
   "metadata": {
    "collapsed": false,
    "pycharm": {
     "name": "#%%\n"
    }
   }
  },
  {
   "cell_type": "code",
   "execution_count": 40,
   "outputs": [
    {
     "name": "stdout",
     "output_type": "stream",
     "text": [
      "<class 'pandas.core.frame.DataFrame'>\n",
      "RangeIndex: 149044 entries, 0 to 149043\n",
      "Data columns (total 16 columns):\n",
      " #   Column           Non-Null Count   Dtype  \n",
      "---  ------           --------------   -----  \n",
      " 0   id_encode        149044 non-null  int64  \n",
      " 1   ds               149044 non-null  int64  \n",
      " 2   tag              149044 non-null  object \n",
      " 3   ele_price        148580 non-null  float64\n",
      " 4   ser_price        148580 non-null  float64\n",
      " 5   after_ser_price  148580 non-null  float64\n",
      " 6   total_price      148580 non-null  float64\n",
      " 7   f1               142668 non-null  float64\n",
      " 8   f2               142668 non-null  float64\n",
      " 9   f3               128649 non-null  float64\n",
      " 10  parking_free     149044 non-null  float64\n",
      " 11  flag             149044 non-null  int64  \n",
      " 12  h3               149044 non-null  int32  \n",
      " 13  ac_equipment_kw  149044 non-null  float64\n",
      " 14  dc_equipment_kw  149044 non-null  float64\n",
      " 15  power            149044 non-null  float64\n",
      "dtypes: float64(11), int32(1), int64(3), object(1)\n",
      "memory usage: 17.6+ MB\n",
      "None\n"
     ]
    },
    {
     "data": {
      "text/plain": "   id_encode        ds    tag  ele_price  ser_price  after_ser_price  \\\n0          0  20220415  train       0.64       0.95             0.31   \n1          0  20220416  train       0.64       0.95             0.31   \n2          0  20220417  train       0.64       0.95             0.31   \n3          0  20220418  train       0.64       0.95             0.31   \n4          0  20220419  train       0.64       0.95             0.31   \n\n   total_price   f1   f2   f3  parking_free  flag   h3  ac_equipment_kw  \\\n0         1.59  0.0  0.0  1.0           1.0     1  126              0.0   \n1         1.59  0.0  0.0  1.0           1.0     1  126              0.0   \n2         1.59  0.0  0.0  1.0           1.0     1  126              0.0   \n3         1.59  0.0  0.0  1.0           1.0     1  126              0.0   \n4         1.59  0.0  0.0  1.0           1.0     1  126              0.0   \n\n   dc_equipment_kw      power  \n0           1440.0  2288.2240  \n1           1440.0  2398.5730  \n2           1440.0  2313.0330  \n3           1440.0  2095.3259  \n4           1440.0  1834.3590  ",
      "text/html": "<div>\n<style scoped>\n    .dataframe tbody tr th:only-of-type {\n        vertical-align: middle;\n    }\n\n    .dataframe tbody tr th {\n        vertical-align: top;\n    }\n\n    .dataframe thead th {\n        text-align: right;\n    }\n</style>\n<table border=\"1\" class=\"dataframe\">\n  <thead>\n    <tr style=\"text-align: right;\">\n      <th></th>\n      <th>id_encode</th>\n      <th>ds</th>\n      <th>tag</th>\n      <th>ele_price</th>\n      <th>ser_price</th>\n      <th>after_ser_price</th>\n      <th>total_price</th>\n      <th>f1</th>\n      <th>f2</th>\n      <th>f3</th>\n      <th>parking_free</th>\n      <th>flag</th>\n      <th>h3</th>\n      <th>ac_equipment_kw</th>\n      <th>dc_equipment_kw</th>\n      <th>power</th>\n    </tr>\n  </thead>\n  <tbody>\n    <tr>\n      <th>0</th>\n      <td>0</td>\n      <td>20220415</td>\n      <td>train</td>\n      <td>0.64</td>\n      <td>0.95</td>\n      <td>0.31</td>\n      <td>1.59</td>\n      <td>0.0</td>\n      <td>0.0</td>\n      <td>1.0</td>\n      <td>1.0</td>\n      <td>1</td>\n      <td>126</td>\n      <td>0.0</td>\n      <td>1440.0</td>\n      <td>2288.2240</td>\n    </tr>\n    <tr>\n      <th>1</th>\n      <td>0</td>\n      <td>20220416</td>\n      <td>train</td>\n      <td>0.64</td>\n      <td>0.95</td>\n      <td>0.31</td>\n      <td>1.59</td>\n      <td>0.0</td>\n      <td>0.0</td>\n      <td>1.0</td>\n      <td>1.0</td>\n      <td>1</td>\n      <td>126</td>\n      <td>0.0</td>\n      <td>1440.0</td>\n      <td>2398.5730</td>\n    </tr>\n    <tr>\n      <th>2</th>\n      <td>0</td>\n      <td>20220417</td>\n      <td>train</td>\n      <td>0.64</td>\n      <td>0.95</td>\n      <td>0.31</td>\n      <td>1.59</td>\n      <td>0.0</td>\n      <td>0.0</td>\n      <td>1.0</td>\n      <td>1.0</td>\n      <td>1</td>\n      <td>126</td>\n      <td>0.0</td>\n      <td>1440.0</td>\n      <td>2313.0330</td>\n    </tr>\n    <tr>\n      <th>3</th>\n      <td>0</td>\n      <td>20220418</td>\n      <td>train</td>\n      <td>0.64</td>\n      <td>0.95</td>\n      <td>0.31</td>\n      <td>1.59</td>\n      <td>0.0</td>\n      <td>0.0</td>\n      <td>1.0</td>\n      <td>1.0</td>\n      <td>1</td>\n      <td>126</td>\n      <td>0.0</td>\n      <td>1440.0</td>\n      <td>2095.3259</td>\n    </tr>\n    <tr>\n      <th>4</th>\n      <td>0</td>\n      <td>20220419</td>\n      <td>train</td>\n      <td>0.64</td>\n      <td>0.95</td>\n      <td>0.31</td>\n      <td>1.59</td>\n      <td>0.0</td>\n      <td>0.0</td>\n      <td>1.0</td>\n      <td>1.0</td>\n      <td>1</td>\n      <td>126</td>\n      <td>0.0</td>\n      <td>1440.0</td>\n      <td>1834.3590</td>\n    </tr>\n  </tbody>\n</table>\n</div>"
     },
     "execution_count": 40,
     "metadata": {},
     "output_type": "execute_result"
    }
   ],
   "source": [
    "#重构数据，以天为单位\n",
    "train_df = train_df.groupby(['id_encode','ds','tag']).agg({'ele_price':'mean','ser_price':'mean','after_ser_price':'mean',\n",
    "                                                       'total_price':'mean','f1':'mean','f2':'mean','f3':'mean','parking_free':'mean',\n",
    "                                                       'flag':'mean','h3':'mean','ac_equipment_kw':'mean','dc_equipment_kw':'mean','power':'sum'}).reset_index()\n",
    "print(train_df.info())\n",
    "train_df.head()"
   ],
   "metadata": {
    "collapsed": false,
    "pycharm": {
     "name": "#%%\n"
    }
   }
  },
  {
   "cell_type": "code",
   "execution_count": 43,
   "outputs": [
    {
     "data": {
      "text/plain": "   id_encode  hour  ele_price  ser_price  after_ser_price  total_price  f1  \\\n0          0     0     0.6414     0.3086           0.3086         0.95   2   \n1          0     1     0.6414     0.3086           0.3086         0.95   2   \n2          0     2     0.6414     0.3086           0.3086         0.95   2   \n3          0     3     0.6414     0.3086           0.3086         0.95   2   \n4          0     4     0.6414     0.3086           0.3086         0.95   2   \n\n      f2  f3        ds  parking_free  flag   h3  ac_equipment_kw  \\\n0  178.0 NaN  20230415           1.0     1  126              0.0   \n1  178.0 NaN  20230415           1.0     1  126              0.0   \n2  178.0 NaN  20230415           1.0     1  126              0.0   \n3  178.0 NaN  20230415           1.0     1  126              0.0   \n4  178.0 NaN  20230415           1.0     1  126              0.0   \n\n   dc_equipment_kw   tag  \n0           1440.0  test  \n1           1440.0  test  \n2           1440.0  test  \n3           1440.0  test  \n4           1440.0  test  ",
      "text/html": "<div>\n<style scoped>\n    .dataframe tbody tr th:only-of-type {\n        vertical-align: middle;\n    }\n\n    .dataframe tbody tr th {\n        vertical-align: top;\n    }\n\n    .dataframe thead th {\n        text-align: right;\n    }\n</style>\n<table border=\"1\" class=\"dataframe\">\n  <thead>\n    <tr style=\"text-align: right;\">\n      <th></th>\n      <th>id_encode</th>\n      <th>hour</th>\n      <th>ele_price</th>\n      <th>ser_price</th>\n      <th>after_ser_price</th>\n      <th>total_price</th>\n      <th>f1</th>\n      <th>f2</th>\n      <th>f3</th>\n      <th>ds</th>\n      <th>parking_free</th>\n      <th>flag</th>\n      <th>h3</th>\n      <th>ac_equipment_kw</th>\n      <th>dc_equipment_kw</th>\n      <th>tag</th>\n    </tr>\n  </thead>\n  <tbody>\n    <tr>\n      <th>0</th>\n      <td>0</td>\n      <td>0</td>\n      <td>0.6414</td>\n      <td>0.3086</td>\n      <td>0.3086</td>\n      <td>0.95</td>\n      <td>2</td>\n      <td>178.0</td>\n      <td>NaN</td>\n      <td>20230415</td>\n      <td>1.0</td>\n      <td>1</td>\n      <td>126</td>\n      <td>0.0</td>\n      <td>1440.0</td>\n      <td>test</td>\n    </tr>\n    <tr>\n      <th>1</th>\n      <td>0</td>\n      <td>1</td>\n      <td>0.6414</td>\n      <td>0.3086</td>\n      <td>0.3086</td>\n      <td>0.95</td>\n      <td>2</td>\n      <td>178.0</td>\n      <td>NaN</td>\n      <td>20230415</td>\n      <td>1.0</td>\n      <td>1</td>\n      <td>126</td>\n      <td>0.0</td>\n      <td>1440.0</td>\n      <td>test</td>\n    </tr>\n    <tr>\n      <th>2</th>\n      <td>0</td>\n      <td>2</td>\n      <td>0.6414</td>\n      <td>0.3086</td>\n      <td>0.3086</td>\n      <td>0.95</td>\n      <td>2</td>\n      <td>178.0</td>\n      <td>NaN</td>\n      <td>20230415</td>\n      <td>1.0</td>\n      <td>1</td>\n      <td>126</td>\n      <td>0.0</td>\n      <td>1440.0</td>\n      <td>test</td>\n    </tr>\n    <tr>\n      <th>3</th>\n      <td>0</td>\n      <td>3</td>\n      <td>0.6414</td>\n      <td>0.3086</td>\n      <td>0.3086</td>\n      <td>0.95</td>\n      <td>2</td>\n      <td>178.0</td>\n      <td>NaN</td>\n      <td>20230415</td>\n      <td>1.0</td>\n      <td>1</td>\n      <td>126</td>\n      <td>0.0</td>\n      <td>1440.0</td>\n      <td>test</td>\n    </tr>\n    <tr>\n      <th>4</th>\n      <td>0</td>\n      <td>4</td>\n      <td>0.6414</td>\n      <td>0.3086</td>\n      <td>0.3086</td>\n      <td>0.95</td>\n      <td>2</td>\n      <td>178.0</td>\n      <td>NaN</td>\n      <td>20230415</td>\n      <td>1.0</td>\n      <td>1</td>\n      <td>126</td>\n      <td>0.0</td>\n      <td>1440.0</td>\n      <td>test</td>\n    </tr>\n  </tbody>\n</table>\n</div>"
     },
     "execution_count": 43,
     "metadata": {},
     "output_type": "execute_result"
    }
   ],
   "source": [
    "test_history=pd.read_csv(\"raw_data/test/power_forecast_history.csv\")\n",
    "test_df=pd.merge(test_history,stub,on='id_encode',how='left')\n",
    "from sklearn.preprocessing import LabelEncoder\n",
    "letest = LabelEncoder()\n",
    "test_df['h3'] = letest.fit_transform(test_df['h3'])\n",
    "test_df['flag'] = test_df['flag'].replace({'A':1,'B':2})\n",
    "test_df['tag'] = 'test'\n",
    "test_df.head()\n",
    "\n",
    " # test_df.to_csv(\"raw_data/train/test_df.csv\",index=None)"
   ],
   "metadata": {
    "collapsed": false,
    "pycharm": {
     "name": "#%%\n"
    }
   }
  },
  {
   "cell_type": "code",
   "execution_count": 44,
   "outputs": [
    {
     "name": "stdout",
     "output_type": "stream",
     "text": [
      "<class 'pandas.core.frame.DataFrame'>\n",
      "RangeIndex: 3500 entries, 0 to 3499\n",
      "Data columns (total 15 columns):\n",
      " #   Column           Non-Null Count  Dtype  \n",
      "---  ------           --------------  -----  \n",
      " 0   id_encode        3500 non-null   int64  \n",
      " 1   ds               3500 non-null   int64  \n",
      " 2   tag              3500 non-null   object \n",
      " 3   ele_price        3500 non-null   float64\n",
      " 4   ser_price        3500 non-null   float64\n",
      " 5   after_ser_price  3500 non-null   float64\n",
      " 6   total_price      3500 non-null   float64\n",
      " 7   f1               3500 non-null   int64  \n",
      " 8   f2               3500 non-null   float64\n",
      " 9   f3               0 non-null      float64\n",
      " 10  parking_free     3500 non-null   float64\n",
      " 11  flag             3500 non-null   int64  \n",
      " 12  h3               3500 non-null   int32  \n",
      " 13  ac_equipment_kw  3500 non-null   float64\n",
      " 14  dc_equipment_kw  3500 non-null   float64\n",
      "dtypes: float64(9), int32(1), int64(4), object(1)\n",
      "memory usage: 396.6+ KB\n",
      "None\n"
     ]
    },
    {
     "data": {
      "text/plain": "   id_encode        ds    tag  ele_price  ser_price  after_ser_price  \\\n0          0  20220415  train       0.64       0.95             0.31   \n1          0  20220416  train       0.64       0.95             0.31   \n2          0  20220417  train       0.64       0.95             0.31   \n3          0  20220418  train       0.64       0.95             0.31   \n4          0  20220419  train       0.64       0.95             0.31   \n\n   total_price   f1   f2   f3  parking_free  flag   h3  ac_equipment_kw  \\\n0         1.59  0.0  0.0  1.0           1.0     1  126              0.0   \n1         1.59  0.0  0.0  1.0           1.0     1  126              0.0   \n2         1.59  0.0  0.0  1.0           1.0     1  126              0.0   \n3         1.59  0.0  0.0  1.0           1.0     1  126              0.0   \n4         1.59  0.0  0.0  1.0           1.0     1  126              0.0   \n\n   dc_equipment_kw      power  \n0           1440.0  2288.2240  \n1           1440.0  2398.5730  \n2           1440.0  2313.0330  \n3           1440.0  2095.3259  \n4           1440.0  1834.3590  ",
      "text/html": "<div>\n<style scoped>\n    .dataframe tbody tr th:only-of-type {\n        vertical-align: middle;\n    }\n\n    .dataframe tbody tr th {\n        vertical-align: top;\n    }\n\n    .dataframe thead th {\n        text-align: right;\n    }\n</style>\n<table border=\"1\" class=\"dataframe\">\n  <thead>\n    <tr style=\"text-align: right;\">\n      <th></th>\n      <th>id_encode</th>\n      <th>ds</th>\n      <th>tag</th>\n      <th>ele_price</th>\n      <th>ser_price</th>\n      <th>after_ser_price</th>\n      <th>total_price</th>\n      <th>f1</th>\n      <th>f2</th>\n      <th>f3</th>\n      <th>parking_free</th>\n      <th>flag</th>\n      <th>h3</th>\n      <th>ac_equipment_kw</th>\n      <th>dc_equipment_kw</th>\n      <th>power</th>\n    </tr>\n  </thead>\n  <tbody>\n    <tr>\n      <th>0</th>\n      <td>0</td>\n      <td>20220415</td>\n      <td>train</td>\n      <td>0.64</td>\n      <td>0.95</td>\n      <td>0.31</td>\n      <td>1.59</td>\n      <td>0.0</td>\n      <td>0.0</td>\n      <td>1.0</td>\n      <td>1.0</td>\n      <td>1</td>\n      <td>126</td>\n      <td>0.0</td>\n      <td>1440.0</td>\n      <td>2288.2240</td>\n    </tr>\n    <tr>\n      <th>1</th>\n      <td>0</td>\n      <td>20220416</td>\n      <td>train</td>\n      <td>0.64</td>\n      <td>0.95</td>\n      <td>0.31</td>\n      <td>1.59</td>\n      <td>0.0</td>\n      <td>0.0</td>\n      <td>1.0</td>\n      <td>1.0</td>\n      <td>1</td>\n      <td>126</td>\n      <td>0.0</td>\n      <td>1440.0</td>\n      <td>2398.5730</td>\n    </tr>\n    <tr>\n      <th>2</th>\n      <td>0</td>\n      <td>20220417</td>\n      <td>train</td>\n      <td>0.64</td>\n      <td>0.95</td>\n      <td>0.31</td>\n      <td>1.59</td>\n      <td>0.0</td>\n      <td>0.0</td>\n      <td>1.0</td>\n      <td>1.0</td>\n      <td>1</td>\n      <td>126</td>\n      <td>0.0</td>\n      <td>1440.0</td>\n      <td>2313.0330</td>\n    </tr>\n    <tr>\n      <th>3</th>\n      <td>0</td>\n      <td>20220418</td>\n      <td>train</td>\n      <td>0.64</td>\n      <td>0.95</td>\n      <td>0.31</td>\n      <td>1.59</td>\n      <td>0.0</td>\n      <td>0.0</td>\n      <td>1.0</td>\n      <td>1.0</td>\n      <td>1</td>\n      <td>126</td>\n      <td>0.0</td>\n      <td>1440.0</td>\n      <td>2095.3259</td>\n    </tr>\n    <tr>\n      <th>4</th>\n      <td>0</td>\n      <td>20220419</td>\n      <td>train</td>\n      <td>0.64</td>\n      <td>0.95</td>\n      <td>0.31</td>\n      <td>1.59</td>\n      <td>0.0</td>\n      <td>0.0</td>\n      <td>1.0</td>\n      <td>1.0</td>\n      <td>1</td>\n      <td>126</td>\n      <td>0.0</td>\n      <td>1440.0</td>\n      <td>1834.3590</td>\n    </tr>\n  </tbody>\n</table>\n</div>"
     },
     "execution_count": 44,
     "metadata": {},
     "output_type": "execute_result"
    }
   ],
   "source": [
    "test_df = test_df.groupby(['id_encode','ds','tag']).agg({'ele_price':'mean','ser_price':'mean','after_ser_price':'mean',\n",
    "                                                       'total_price':'mean','f1':'mean','f2':'mean','f3':'mean','parking_free':'mean',\n",
    "                                                       'flag':'mean','h3':'mean','ac_equipment_kw':'mean','dc_equipment_kw':'mean'}).reset_index()\n",
    "print(test_df.info())\n",
    "train_df.head()\n"
   ],
   "metadata": {
    "collapsed": false,
    "pycharm": {
     "name": "#%%\n"
    }
   }
  },
  {
   "cell_type": "code",
   "execution_count": 45,
   "outputs": [],
   "source": [
    "total_df=pd.concat((train_df,test_df),axis=0)\n",
    "# toal_df.drop(['ele_price','ser_price','after_ser_price','total_price'],axis=1,inplace=True)\n",
    "total_df=total_df.sort_values(by=['id_encode', 'ds'], ascending=[True, True])\n",
    "total_df.head()\n",
    "total_df.to_csv('train_test_df.csv',index=False)\n",
    "\n"
   ],
   "metadata": {
    "collapsed": false,
    "pycharm": {
     "name": "#%%\n"
    }
   }
  },
  {
   "cell_type": "code",
   "execution_count": null,
   "outputs": [],
   "source": [],
   "metadata": {
    "collapsed": false,
    "pycharm": {
     "name": "#%%\n"
    }
   }
  }
 ],
 "metadata": {
  "kernelspec": {
   "name": "pycharm-d1db613e",
   "language": "python",
   "display_name": "PyCharm (Powerall)"
  },
  "language_info": {
   "codemirror_mode": {
    "name": "ipython",
    "version": 2
   },
   "file_extension": ".py",
   "mimetype": "text/x-python",
   "name": "python",
   "nbconvert_exporter": "python",
   "pygments_lexer": "ipython2",
   "version": "2.7.6"
  }
 },
 "nbformat": 4,
 "nbformat_minor": 0
}